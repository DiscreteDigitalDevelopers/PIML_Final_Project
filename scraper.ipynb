{
 "cells": [
  {
   "cell_type": "markdown",
   "id": "07e018a0-0553-454e-a9fd-b14f41f330e8",
   "metadata": {},
   "source": [
    "# IMDB Scraper"
   ]
  },
  {
   "cell_type": "markdown",
   "id": "cc06aa88-56b3-4d3f-bcdf-bfdb4ed59229",
   "metadata": {},
   "source": [
    "Script to scrape reviews and ratings of a movie / tvshow from IMDB."
   ]
  },
  {
   "cell_type": "code",
   "execution_count": 1,
   "id": "2cf70728-85d2-4c0c-9b95-6804a9dcfd29",
   "metadata": {},
   "outputs": [],
   "source": [
    "import pandas as pd\n",
    "import numpy as np\n",
    "from tqdm import tqdm\n",
    "import pickle\n",
    "from bs4 import BeautifulSoup\n",
    "import requests\n",
    "import json\n",
    "from matplotlib import pyplot as plt"
   ]
  },
  {
   "cell_type": "markdown",
   "id": "fa104bb6-0639-4dc0-8ee1-59154e0ac435",
   "metadata": {},
   "source": [
    "Configuration"
   ]
  },
  {
   "cell_type": "code",
   "execution_count": 2,
   "id": "0ee9e879-d729-4cd6-9aaf-36c95a512b1f",
   "metadata": {},
   "outputs": [],
   "source": [
    "DATA_PATH = 'data.tsv'"
   ]
  },
  {
   "cell_type": "markdown",
   "id": "2f8188ec-7e1a-4d1b-8645-90e810f2ee83",
   "metadata": {},
   "source": [
    "Read tsv"
   ]
  },
  {
   "cell_type": "code",
   "execution_count": 3,
   "id": "725b0671-1231-4011-b889-9edf9f1879c8",
   "metadata": {},
   "outputs": [],
   "source": [
    "df = pd.read_csv(DATA_PATH, sep = '\\t')"
   ]
  },
  {
   "cell_type": "code",
   "execution_count": 4,
   "id": "d9f5bc0a-802e-47d7-b413-da34bfe67f4c",
   "metadata": {},
   "outputs": [
    {
     "data": {
      "text/html": [
       "<div>\n",
       "<style scoped>\n",
       "    .dataframe tbody tr th:only-of-type {\n",
       "        vertical-align: middle;\n",
       "    }\n",
       "\n",
       "    .dataframe tbody tr th {\n",
       "        vertical-align: top;\n",
       "    }\n",
       "\n",
       "    .dataframe thead th {\n",
       "        text-align: right;\n",
       "    }\n",
       "</style>\n",
       "<table border=\"1\" class=\"dataframe\">\n",
       "  <thead>\n",
       "    <tr style=\"text-align: right;\">\n",
       "      <th></th>\n",
       "      <th>tconst</th>\n",
       "      <th>averageRating</th>\n",
       "      <th>numVotes</th>\n",
       "    </tr>\n",
       "  </thead>\n",
       "  <tbody>\n",
       "    <tr>\n",
       "      <th>0</th>\n",
       "      <td>tt0000001</td>\n",
       "      <td>5.7</td>\n",
       "      <td>1924</td>\n",
       "    </tr>\n",
       "    <tr>\n",
       "      <th>1</th>\n",
       "      <td>tt0000002</td>\n",
       "      <td>5.8</td>\n",
       "      <td>260</td>\n",
       "    </tr>\n",
       "    <tr>\n",
       "      <th>2</th>\n",
       "      <td>tt0000003</td>\n",
       "      <td>6.5</td>\n",
       "      <td>1736</td>\n",
       "    </tr>\n",
       "    <tr>\n",
       "      <th>3</th>\n",
       "      <td>tt0000004</td>\n",
       "      <td>5.6</td>\n",
       "      <td>175</td>\n",
       "    </tr>\n",
       "    <tr>\n",
       "      <th>4</th>\n",
       "      <td>tt0000005</td>\n",
       "      <td>6.2</td>\n",
       "      <td>2551</td>\n",
       "    </tr>\n",
       "  </tbody>\n",
       "</table>\n",
       "</div>"
      ],
      "text/plain": [
       "      tconst  averageRating  numVotes\n",
       "0  tt0000001            5.7      1924\n",
       "1  tt0000002            5.8       260\n",
       "2  tt0000003            6.5      1736\n",
       "3  tt0000004            5.6       175\n",
       "4  tt0000005            6.2      2551"
      ]
     },
     "execution_count": 4,
     "metadata": {},
     "output_type": "execute_result"
    }
   ],
   "source": [
    "df.head()"
   ]
  },
  {
   "cell_type": "markdown",
   "id": "7290bbd6-6108-4f2d-9beb-ab2f7f6ddfca",
   "metadata": {},
   "source": [
    "Row count"
   ]
  },
  {
   "cell_type": "code",
   "execution_count": 5,
   "id": "0f85e064-72cc-4558-ac89-9a530217d4f2",
   "metadata": {},
   "outputs": [
    {
     "data": {
      "text/plain": [
       "1252779"
      ]
     },
     "execution_count": 5,
     "metadata": {},
     "output_type": "execute_result"
    }
   ],
   "source": [
    "len(df.index)"
   ]
  },
  {
   "cell_type": "markdown",
   "id": "31d28906-f226-43f1-8839-242dea651416",
   "metadata": {},
   "source": [
    "Randomly sample data"
   ]
  },
  {
   "cell_type": "code",
   "execution_count": 6,
   "id": "c902c774-e8d6-4523-90b3-ada76b7e2916",
   "metadata": {},
   "outputs": [],
   "source": [
    "sample_idxs = np.random.permutation(len(df.index))"
   ]
  },
  {
   "cell_type": "markdown",
   "id": "3fd9c356-2c23-46ff-a1e3-783cbe755128",
   "metadata": {},
   "source": [
    "Exclude previously mined data"
   ]
  },
  {
   "cell_type": "code",
   "execution_count": 13,
   "id": "81b6a870-3c8b-47c7-a921-07dfd8259903",
   "metadata": {},
   "outputs": [
    {
     "name": "stdout",
     "output_type": "stream",
     "text": [
      "28000\n"
     ]
    }
   ],
   "source": [
    "# load all previously trained data\n",
    "prev_data = {}\n",
    "for i in range(28):\n",
    "    with open(f'./data/ratings_{i}.pkl', 'rb') as f:\n",
    "        prev_data = prev_data | pickle.load(f)\n",
    "# extract existing keys\n",
    "mined_tids = set(prev_data.keys())\n",
    "print(len(mined_tids))"
   ]
  },
  {
   "cell_type": "markdown",
   "id": "fe9fbc03-6325-4ac5-972e-f8f05e5deb52",
   "metadata": {},
   "source": [
    "## Data Mining"
   ]
  },
  {
   "cell_type": "markdown",
   "id": "6ec73a0c-7db9-40f4-b649-c5f833ca25e1",
   "metadata": {},
   "source": [
    "Mine data from the web and save to pickle file"
   ]
  },
  {
   "cell_type": "code",
   "execution_count": 14,
   "id": "dab26bd9-0add-4282-a22d-6b61e72bb7c7",
   "metadata": {},
   "outputs": [],
   "source": [
    "SAMPLE_SIZE = 20000\n",
    "SAVE_INTERVAL = 1000\n",
    "REVIEWS_PER_MOVIE = 5\n",
    "SAVE_LOCATION = './data/'\n",
    "START_ID = 10"
   ]
  },
  {
   "cell_type": "code",
   "execution_count": null,
   "id": "045260de-da52-4496-8fc0-c791d4e6755c",
   "metadata": {},
   "outputs": [
    {
     "name": "stderr",
     "output_type": "stream",
     "text": [
      "  1%|█                                                                           | 277/20000 [08:44<9:03:35,  1.65s/it]"
     ]
    },
    {
     "name": "stdout",
     "output_type": "stream",
     "text": [
      "Error while mining tt13210822 ...\n"
     ]
    },
    {
     "name": "stderr",
     "output_type": "stream",
     "text": [
      "  1%|█                                                                           | 279/20000 [08:46<7:03:57,  1.29s/it]"
     ]
    },
    {
     "name": "stdout",
     "output_type": "stream",
     "text": [
      "Error while mining tt0209812 ...\n"
     ]
    },
    {
     "name": "stderr",
     "output_type": "stream",
     "text": [
      "  1%|█                                                                           | 280/20000 [08:47<6:46:41,  1.24s/it]"
     ]
    },
    {
     "name": "stdout",
     "output_type": "stream",
     "text": [
      "Error while mining tt13985888 ...\n"
     ]
    },
    {
     "name": "stderr",
     "output_type": "stream",
     "text": [
      "  1%|█                                                                          | 284/20000 [08:58<16:11:23,  2.96s/it]"
     ]
    },
    {
     "name": "stdout",
     "output_type": "stream",
     "text": [
      "Error while mining tt21272520 ...\n"
     ]
    },
    {
     "name": "stderr",
     "output_type": "stream",
     "text": [
      "  1%|█                                                                           | 287/20000 [08:58<7:38:38,  1.40s/it]"
     ]
    },
    {
     "name": "stdout",
     "output_type": "stream",
     "text": [
      "Error while mining tt6389574 ...\n"
     ]
    },
    {
     "name": "stderr",
     "output_type": "stream",
     "text": [
      "  5%|███▊                                                                       | 1000/20000 [29:41<7:26:15,  1.41s/it]"
     ]
    },
    {
     "name": "stdout",
     "output_type": "stream",
     "text": [
      "saving checkpoint...\n"
     ]
    },
    {
     "name": "stderr",
     "output_type": "stream",
     "text": [
      "  6%|████▌                                                                      | 1232/20000 [36:34<7:47:50,  1.50s/it]"
     ]
    },
    {
     "name": "stdout",
     "output_type": "stream",
     "text": [
      "Error while mining tt11957196 ...\n"
     ]
    },
    {
     "name": "stderr",
     "output_type": "stream",
     "text": [
      " 10%|███████▌                                                                   | 2000/20000 [59:22<5:35:50,  1.12s/it]"
     ]
    },
    {
     "name": "stdout",
     "output_type": "stream",
     "text": [
      "saving checkpoint...\n"
     ]
    },
    {
     "name": "stderr",
     "output_type": "stream",
     "text": [
      " 14%|██████████▏                                                              | 2797/20000 [1:21:38<8:42:41,  1.82s/it]"
     ]
    },
    {
     "name": "stdout",
     "output_type": "stream",
     "text": [
      "Error while mining tt0364904 ...\n"
     ]
    },
    {
     "name": "stderr",
     "output_type": "stream",
     "text": [
      " 14%|██████████▏                                                              | 2798/20000 [1:21:39<7:46:43,  1.63s/it]"
     ]
    },
    {
     "name": "stdout",
     "output_type": "stream",
     "text": [
      "Error while mining tt0027777 ...\n",
      "Error while mining tt15392890 ...\n"
     ]
    },
    {
     "name": "stderr",
     "output_type": "stream",
     "text": [
      " 14%|██████████▏                                                              | 2808/20000 [1:21:58<9:06:50,  1.91s/it]"
     ]
    },
    {
     "name": "stdout",
     "output_type": "stream",
     "text": [
      "Error while mining tt15857336 ...\n",
      "Error while mining tt0379874 ...\n",
      "Error while mining tt5198068 ...\n",
      "Error while mining tt0143480 ...\n"
     ]
    },
    {
     "name": "stderr",
     "output_type": "stream",
     "text": [
      " 15%|██████████▉                                                              | 3000/20000 [1:27:09<6:49:06,  1.44s/it]"
     ]
    },
    {
     "name": "stdout",
     "output_type": "stream",
     "text": [
      "saving checkpoint...\n"
     ]
    },
    {
     "name": "stderr",
     "output_type": "stream",
     "text": [
      " 20%|██████████████▌                                                          | 4000/20000 [1:55:35<5:54:25,  1.33s/it]"
     ]
    },
    {
     "name": "stdout",
     "output_type": "stream",
     "text": [
      "saving checkpoint...\n"
     ]
    },
    {
     "name": "stderr",
     "output_type": "stream",
     "text": [
      " 21%|███████████████▎                                                        | 4260/20000 [2:03:22<10:14:23,  2.34s/it]"
     ]
    },
    {
     "name": "stdout",
     "output_type": "stream",
     "text": [
      "Error while mining tt4586258 ...\n"
     ]
    },
    {
     "name": "stderr",
     "output_type": "stream",
     "text": [
      " 21%|███████████████▌                                                         | 4275/20000 [2:03:42<5:15:54,  1.21s/it]"
     ]
    },
    {
     "name": "stdout",
     "output_type": "stream",
     "text": [
      "Error while mining tt3609978 ...\n"
     ]
    },
    {
     "name": "stderr",
     "output_type": "stream",
     "text": [
      " 21%|███████████████▌                                                         | 4278/20000 [2:03:49<8:35:07,  1.97s/it]"
     ]
    },
    {
     "name": "stdout",
     "output_type": "stream",
     "text": [
      "Error while mining tt0520302 ...\n"
     ]
    },
    {
     "name": "stderr",
     "output_type": "stream",
     "text": [
      " 25%|██████████████████                                                      | 5000/20000 [2:24:50<10:59:15,  2.64s/it]"
     ]
    },
    {
     "name": "stdout",
     "output_type": "stream",
     "text": [
      "saving checkpoint...\n"
     ]
    },
    {
     "name": "stderr",
     "output_type": "stream",
     "text": [
      " 28%|████████████████████▋                                                    | 5671/20000 [2:44:35<6:57:58,  1.75s/it]"
     ]
    },
    {
     "name": "stdout",
     "output_type": "stream",
     "text": [
      "Error while mining tt7492172 ...\n"
     ]
    },
    {
     "name": "stderr",
     "output_type": "stream",
     "text": [
      " 28%|████████████████████▍                                                   | 5675/20000 [2:44:48<10:37:16,  2.67s/it]"
     ]
    },
    {
     "name": "stdout",
     "output_type": "stream",
     "text": [
      "Error while mining tt1153036 ...\n"
     ]
    },
    {
     "name": "stderr",
     "output_type": "stream",
     "text": [
      " 30%|█████████████████████▉                                                   | 6000/20000 [2:53:54<5:48:51,  1.50s/it]"
     ]
    },
    {
     "name": "stdout",
     "output_type": "stream",
     "text": [
      "saving checkpoint...\n"
     ]
    },
    {
     "name": "stderr",
     "output_type": "stream",
     "text": [
      " 35%|█████████████████████████▌                                               | 7000/20000 [3:22:34<4:56:22,  1.37s/it]"
     ]
    },
    {
     "name": "stdout",
     "output_type": "stream",
     "text": [
      "saving checkpoint...\n"
     ]
    },
    {
     "name": "stderr",
     "output_type": "stream",
     "text": [
      " 37%|███████████████████████████▎                                             | 7475/20000 [3:36:22<7:40:55,  2.21s/it]"
     ]
    },
    {
     "name": "stdout",
     "output_type": "stream",
     "text": [
      "Error while mining tt6854152 ...\n"
     ]
    },
    {
     "name": "stderr",
     "output_type": "stream",
     "text": [
      " 37%|███████████████████████████▎                                             | 7482/20000 [3:36:28<3:36:47,  1.04s/it]"
     ]
    },
    {
     "name": "stdout",
     "output_type": "stream",
     "text": [
      "Error while mining tt2033451 ...\n"
     ]
    },
    {
     "name": "stderr",
     "output_type": "stream",
     "text": [
      " 38%|███████████████████████████▍                                             | 7509/20000 [3:37:09<4:21:26,  1.26s/it]"
     ]
    },
    {
     "name": "stdout",
     "output_type": "stream",
     "text": [
      "Error while mining tt0320734 ...\n"
     ]
    },
    {
     "name": "stderr",
     "output_type": "stream",
     "text": [
      " 40%|█████████████████████████████▏                                           | 8000/20000 [3:50:32<4:41:19,  1.41s/it]"
     ]
    },
    {
     "name": "stdout",
     "output_type": "stream",
     "text": [
      "saving checkpoint...\n"
     ]
    },
    {
     "name": "stderr",
     "output_type": "stream",
     "text": [
      " 45%|████████████████████████████████▊                                        | 9000/20000 [4:17:33<4:14:26,  1.39s/it]"
     ]
    },
    {
     "name": "stdout",
     "output_type": "stream",
     "text": [
      "saving checkpoint...\n"
     ]
    },
    {
     "name": "stderr",
     "output_type": "stream",
     "text": [
      " 45%|█████████████████████████████████                                        | 9067/20000 [4:19:17<7:18:17,  2.41s/it]"
     ]
    },
    {
     "name": "stdout",
     "output_type": "stream",
     "text": [
      "Error while mining tt0075093 ...\n"
     ]
    },
    {
     "name": "stderr",
     "output_type": "stream",
     "text": [
      " 45%|█████████████████████████████████                                        | 9068/20000 [4:19:17<5:32:46,  1.83s/it]"
     ]
    },
    {
     "name": "stdout",
     "output_type": "stream",
     "text": [
      "Error while mining tt0425651 ...\n"
     ]
    },
    {
     "name": "stderr",
     "output_type": "stream",
     "text": [
      " 45%|█████████████████████████████████                                        | 9072/20000 [4:19:22<4:18:58,  1.42s/it]"
     ]
    },
    {
     "name": "stdout",
     "output_type": "stream",
     "text": [
      "Error while mining tt5588968 ...\n"
     ]
    },
    {
     "name": "stderr",
     "output_type": "stream",
     "text": [
      " 45%|█████████████████████████████████▏                                       | 9076/20000 [4:19:30<4:51:35,  1.60s/it]"
     ]
    },
    {
     "name": "stdout",
     "output_type": "stream",
     "text": [
      "Error while mining tt11518212 ...\n",
      "Error while mining tt2736160 ...\n"
     ]
    },
    {
     "name": "stderr",
     "output_type": "stream",
     "text": [
      " 50%|████████████████████████████████████                                    | 10000/20000 [4:45:19<3:45:45,  1.35s/it]"
     ]
    },
    {
     "name": "stdout",
     "output_type": "stream",
     "text": [
      "saving checkpoint...\n"
     ]
    },
    {
     "name": "stderr",
     "output_type": "stream",
     "text": [
      " 55%|███████████████████████████████████████▌                                | 11000/20000 [5:12:46<2:55:54,  1.17s/it]"
     ]
    },
    {
     "name": "stdout",
     "output_type": "stream",
     "text": [
      "saving checkpoint...\n"
     ]
    },
    {
     "name": "stderr",
     "output_type": "stream",
     "text": [
      " 60%|███████████████████████████████████████████▏                            | 12000/20000 [5:38:23<4:11:09,  1.88s/it]"
     ]
    },
    {
     "name": "stdout",
     "output_type": "stream",
     "text": [
      "saving checkpoint...\n"
     ]
    },
    {
     "name": "stderr",
     "output_type": "stream",
     "text": [
      " 60%|███████████████████████████████████████████▏                            | 12010/20000 [5:38:35<2:49:57,  1.28s/it]"
     ]
    },
    {
     "name": "stdout",
     "output_type": "stream",
     "text": [
      "Error while mining tt21811034 ...\n"
     ]
    },
    {
     "name": "stderr",
     "output_type": "stream",
     "text": [
      " 60%|███████████████████████████████████████████▎                            | 12018/20000 [5:38:44<2:16:36,  1.03s/it]"
     ]
    },
    {
     "name": "stdout",
     "output_type": "stream",
     "text": [
      "Error while mining tt5860488 ...\n"
     ]
    },
    {
     "name": "stderr",
     "output_type": "stream",
     "text": [
      " 65%|██████████████████████████████████████████████▊                         | 13000/20000 [6:05:41<3:22:36,  1.74s/it]"
     ]
    },
    {
     "name": "stdout",
     "output_type": "stream",
     "text": [
      "saving checkpoint...\n"
     ]
    },
    {
     "name": "stderr",
     "output_type": "stream",
     "text": [
      " 66%|███████████████████████████████████████████████▊                        | 13265/20000 [6:13:04<4:03:49,  2.17s/it]"
     ]
    },
    {
     "name": "stdout",
     "output_type": "stream",
     "text": [
      "Error while mining tt3694902 ...\n",
      "Error while mining tt1177529 ...\n"
     ]
    },
    {
     "name": "stderr",
     "output_type": "stream",
     "text": [
      " 70%|██████████████████████████████████████████████████▍                     | 14000/20000 [6:33:16<2:09:26,  1.29s/it]"
     ]
    },
    {
     "name": "stdout",
     "output_type": "stream",
     "text": [
      "saving checkpoint...\n"
     ]
    },
    {
     "name": "stderr",
     "output_type": "stream",
     "text": [
      " 75%|██████████████████████████████████████████████████████                  | 15000/20000 [7:01:02<1:42:50,  1.23s/it]"
     ]
    },
    {
     "name": "stdout",
     "output_type": "stream",
     "text": [
      "saving checkpoint...\n"
     ]
    },
    {
     "name": "stderr",
     "output_type": "stream",
     "text": [
      " 80%|█████████████████████████████████████████████████████████▌              | 16000/20000 [7:29:17<1:46:32,  1.60s/it]"
     ]
    },
    {
     "name": "stdout",
     "output_type": "stream",
     "text": [
      "saving checkpoint...\n"
     ]
    },
    {
     "name": "stderr",
     "output_type": "stream",
     "text": [
      " 85%|█████████████████████████████████████████████████████████████▏          | 17000/20000 [7:56:07<1:37:25,  1.95s/it]"
     ]
    },
    {
     "name": "stdout",
     "output_type": "stream",
     "text": [
      "saving checkpoint...\n"
     ]
    },
    {
     "name": "stderr",
     "output_type": "stream",
     "text": [
      " 88%|████████████████████████████████████████████████████████████████▊         | 17524/20000 [8:10:31<57:37,  1.40s/it]"
     ]
    },
    {
     "name": "stdout",
     "output_type": "stream",
     "text": [
      "Error while mining tt0789951 ...\n",
      "Error while mining tt0995437 ...\n",
      "Error while mining tt14441570 ...\n"
     ]
    },
    {
     "name": "stderr",
     "output_type": "stream",
     "text": [
      " 88%|███████████████████████████████████████████████████████████████         | 17526/20000 [8:10:36<1:17:39,  1.88s/it]"
     ]
    },
    {
     "name": "stdout",
     "output_type": "stream",
     "text": [
      "Error while mining tt3813804 ...\n"
     ]
    },
    {
     "name": "stderr",
     "output_type": "stream",
     "text": [
      " 88%|███████████████████████████████████████████████████████████████         | 17529/20000 [8:10:43<1:21:15,  1.97s/it]"
     ]
    },
    {
     "name": "stdout",
     "output_type": "stream",
     "text": [
      "Error while mining tt6855918 ...\n"
     ]
    },
    {
     "name": "stderr",
     "output_type": "stream",
     "text": [
      " 88%|███████████████████████████████████████████████████████████████         | 17531/20000 [8:10:46<1:11:17,  1.73s/it]"
     ]
    },
    {
     "name": "stdout",
     "output_type": "stream",
     "text": [
      "Error while mining tt6377538 ...\n"
     ]
    },
    {
     "name": "stderr",
     "output_type": "stream",
     "text": [
      " 88%|███████████████████████████████████████████████████████████████         | 17532/20000 [8:10:47<1:03:06,  1.53s/it]"
     ]
    },
    {
     "name": "stdout",
     "output_type": "stream",
     "text": [
      "Error while mining tt1041379 ...\n"
     ]
    },
    {
     "name": "stderr",
     "output_type": "stream",
     "text": [
      " 90%|██████████████████████████████████████████████████████████████████▌       | 18000/20000 [8:23:13<33:31,  1.01s/it]"
     ]
    },
    {
     "name": "stdout",
     "output_type": "stream",
     "text": [
      "saving checkpoint...\n"
     ]
    },
    {
     "name": "stderr",
     "output_type": "stream",
     "text": [
      " 94%|█████████████████████████████████████████████████████████████████████▊    | 18866/20000 [8:47:48<43:46,  2.32s/it]"
     ]
    }
   ],
   "source": [
    "data = {}\n",
    "count = 0\n",
    "save_counter = START_ID\n",
    "with tqdm(total=SAMPLE_SIZE) as pbar:\n",
    "    for idx in sample_idxs:\n",
    "        # check if exit loop\n",
    "        if count >= SAMPLE_SIZE:\n",
    "            break\n",
    "        # get metadata\n",
    "        metadata = df.iloc[idx]\n",
    "        tid, rating = metadata[0], metadata[1]\n",
    "        # exclude already mined data\n",
    "        if tid in mined_tids:\n",
    "            continue\n",
    "        # scrape reviews\n",
    "        raw = None\n",
    "        try:\n",
    "            raw = requests.get(f'https://www.imdb.com/title/{tid}/reviews?ref_=tt_urv')\n",
    "        except:\n",
    "            print(f'Error while mining {tid} ...')\n",
    "            continue\n",
    "        soup = BeautifulSoup(raw.text, 'html.parser')\n",
    "        r_text = []\n",
    "        for i, r_div in enumerate(soup.findAll('div', {'class': ['content']})):\n",
    "            review = r_div.find(class_ = 'text')\n",
    "            if i >= REVIEWS_PER_MOVIE:\n",
    "                break\n",
    "            r_text.append(review.text)\n",
    "        if len(r_text) == 0:\n",
    "            # no review found, continue searching\n",
    "            continue\n",
    "        # store data\n",
    "        data[tid] = (rating, ' '.join(r_text))\n",
    "        count += 1\n",
    "        pbar.update(1)\n",
    "        # save data if interval\n",
    "        if count % SAVE_INTERVAL == 0:\n",
    "            # dump data\n",
    "            print('saving checkpoint...')\n",
    "            with open(f'{SAVE_LOCATION}ratings_{save_counter}.pkl', 'wb') as f:\n",
    "                pickle.dump(data, f)\n",
    "            save_counter += 1\n",
    "            # clear data\n",
    "            data.clear()\n",
    "# save data\n",
    "print('done')"
   ]
  },
  {
   "cell_type": "markdown",
   "id": "85febab8-1933-429e-989a-8e998e79f998",
   "metadata": {},
   "source": [
    "Train/Dev/Test Split"
   ]
  },
  {
   "cell_type": "code",
   "execution_count": 15,
   "id": "141b5c2f-3cfd-4764-bca8-a8c66bb05343",
   "metadata": {},
   "outputs": [],
   "source": [
    "ratio = [24,2,2]\n",
    "FILE_COUNT = 28\n",
    "\n",
    "ratio = np.cumsum(np.array(ratio))\n",
    "names = ['train', 'dev', 'test']\n",
    "ratings = {}\n",
    "mode = 0\n",
    "for i in range(FILE_COUNT):\n",
    "    with open(f'{SAVE_LOCATION}ratings_{i}.pkl', 'rb') as handle:\n",
    "        temp = pickle.load(handle)\n",
    "        # merge\n",
    "        ratings = ratings | temp\n",
    "    # dump file\n",
    "    if i == ratio[mode] - 1:\n",
    "        with open(f'{SAVE_LOCATION}processed/data_{names[mode]}.pkl', 'wb') as f:\n",
    "            pickle.dump(ratings, f)\n",
    "        mode += 1\n",
    "        ratings.clear()"
   ]
  },
  {
   "cell_type": "markdown",
   "id": "7e113adf-4e40-44e5-b740-0df1a68b88a1",
   "metadata": {},
   "source": [
    "## Data visualization"
   ]
  },
  {
   "cell_type": "markdown",
   "id": "285c04af-958e-431f-ad3e-5d3cddca2ceb",
   "metadata": {},
   "source": [
    "Load pickled data"
   ]
  },
  {
   "cell_type": "code",
   "execution_count": 16,
   "id": "16e56ae2-cc50-419f-8d3c-705ee1fbbf25",
   "metadata": {},
   "outputs": [],
   "source": [
    "train_data = None\n",
    "dev_data = None\n",
    "test_data = None\n",
    "with open(f'{SAVE_LOCATION}processed/data_train.pkl', 'rb') as handle:\n",
    "    train_data = pickle.load(handle)\n",
    "with open(f'{SAVE_LOCATION}processed/data_dev.pkl', 'rb') as handle:\n",
    "    dev_data = pickle.load(handle)\n",
    "with open(f'{SAVE_LOCATION}processed/data_test.pkl', 'rb') as handle:\n",
    "    test_data = pickle.load(handle)"
   ]
  },
  {
   "cell_type": "markdown",
   "id": "6bd4d799-42d2-4903-a1f5-4b9fcbe5b756",
   "metadata": {},
   "source": [
    "Size of dataset"
   ]
  },
  {
   "cell_type": "code",
   "execution_count": 17,
   "id": "f6e1c629-fcf5-4840-a842-960e48f7a528",
   "metadata": {},
   "outputs": [
    {
     "name": "stdout",
     "output_type": "stream",
     "text": [
      "Dataset Size: train = 24000, dev = 2000, test = 2000\n"
     ]
    }
   ],
   "source": [
    "print(f'Dataset Size: train = {len(train_data)}, dev = {len(dev_data)}, test = {len(test_data)}')"
   ]
  },
  {
   "cell_type": "markdown",
   "id": "5c3b6b2a-4e1d-40e8-8a36-fd3372d100bd",
   "metadata": {},
   "source": [
    "Ratings distribution"
   ]
  },
  {
   "cell_type": "code",
   "execution_count": 18,
   "id": "e82cff5f-5b2f-4ef8-a930-1c5d3b8c6603",
   "metadata": {},
   "outputs": [
    {
     "data": {
      "image/png": "[encoded data removed]",
      "text/plain": [
       "<Figure size 432x288 with 1 Axes>"
      ]
     },
     "metadata": {
      "needs_background": "light"
     },
     "output_type": "display_data"
    }
   ],
   "source": [
    "train_scores = []\n",
    "for k, v in train_data.items():\n",
    "    train_scores.append(v[0])\n",
    "dev_scores = []\n",
    "for k, v in dev_data.items():\n",
    "    dev_scores.append(v[0])\n",
    "test_scores = []\n",
    "for k, v in test_data.items():\n",
    "    test_scores.append(v[0])\n",
    "dist = [np.array(train_scores), np.array(dev_scores), np.array(test_scores)]\n",
    "plt.hist(dist, density = True, label=['Train', 'Dev', 'Test'])\n",
    "plt.title('Distribution of Ratings for each Dataset')\n",
    "plt.xlabel('Ratings')\n",
    "plt.ylabel('Density')\n",
    "plt.legend()\n",
    "plt.show()"
   ]
  },
  {
   "cell_type": "markdown",
   "id": "3442c48c-3af8-4b2c-85cf-8e36676c10f9",
   "metadata": {},
   "source": [
    "# Twitter Scraper"
   ]
  },
  {
   "cell_type": "markdown",
   "id": "a25c99d1-680b-42f7-ba78-d8121d7d6e93",
   "metadata": {},
   "source": [
    "Script to scrape twitter posts with a specific movie hashtag"
   ]
  },
  {
   "cell_type": "code",
   "execution_count": 99,
   "id": "9b1904e4-526d-4ee2-969e-37976f8d5e1b",
   "metadata": {},
   "outputs": [],
   "source": [
    "SAVE_LOCATION = './twitter/'\n",
    "RESULTS = 50"
   ]
  },
  {
   "cell_type": "code",
   "execution_count": 100,
   "id": "56ddec02-e7d2-428d-a739-978bb6724b1b",
   "metadata": {},
   "outputs": [],
   "source": [
    "hashtags = [\n",
    "    (7.3, '#blackpanther2'),\n",
    "    (8.4, '#TopGun'),\n",
    "    (6.9, '#NopeMovie'),\n",
    "    (6.3, '#ThorLoveAndThunder')\n",
    "]"
   ]
  },
  {
   "cell_type": "code",
   "execution_count": 102,
   "id": "00e52a89-f61d-4925-aaf1-c3de348d19a7",
   "metadata": {},
   "outputs": [],
   "source": [
    "twitter_data = []\n",
    "for score, hashtag in hashtags:\n",
    "    bearer_token = 'TOKEN'\n",
    "    def bearer_oauth(r):\n",
    "        r.headers[\"Authorization\"] = f\"Bearer {bearer_token}\"\n",
    "        r.headers[\"User-Agent\"] = \"v2RecentSearchPython\"\n",
    "        return r\n",
    "    params = {'query': f'{hashtag} lang:en', 'max_results': RESULTS}\n",
    "    url = 'https://api.twitter.com/2/tweets/search/recent'\n",
    "    res = requests.get(url, auth=bearer_oauth, params=params).json()\n",
    "    data = [r['text'] for r in res['data']]\n",
    "    twitter_data.append((hashtag, score, data))\n",
    "with open(f'{SAVE_LOCATION}/data.pkl', 'wb') as f:\n",
    "    pickle.dump(twitter_data, f)"
   ]
  }
 ],
 "metadata": {
  "kernelspec": {
   "display_name": "Python [conda env:ml] *",
   "language": "python",
   "name": "conda-env-ml-py"
  },
  "language_info": {
   "codemirror_mode": {
    "name": "ipython",
    "version": 3
   },
   "file_extension": ".py",
   "mimetype": "text/x-python",
   "name": "python",
   "nbconvert_exporter": "python",
   "pygments_lexer": "ipython3",
   "version": "3.9.7"
  }
 },
 "nbformat": 4,
 "nbformat_minor": 5
}
