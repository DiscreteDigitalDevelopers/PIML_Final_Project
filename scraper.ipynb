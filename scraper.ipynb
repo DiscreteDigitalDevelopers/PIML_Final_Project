{
 "cells": [
  {
   "cell_type": "markdown",
   "id": "07e018a0-0553-454e-a9fd-b14f41f330e8",
   "metadata": {},
   "source": [
    "# Scraper"
   ]
  },
  {
   "cell_type": "markdown",
   "id": "cc06aa88-56b3-4d3f-bcdf-bfdb4ed59229",
   "metadata": {},
   "source": [
    "Script to scrape reviews and ratings of a movie / tvshow from IMDB."
   ]
  },
  {
   "cell_type": "code",
   "execution_count": 150,
   "id": "2cf70728-85d2-4c0c-9b95-6804a9dcfd29",
   "metadata": {},
   "outputs": [],
   "source": [
    "import pandas as pd\n",
    "import numpy as np\n",
    "from tqdm import tqdm\n",
    "import pickle\n",
    "from bs4 import BeautifulSoup\n",
    "import requests\n",
    "from matplotlib import pyplot as plt"
   ]
  },
  {
   "cell_type": "markdown",
   "id": "fa104bb6-0639-4dc0-8ee1-59154e0ac435",
   "metadata": {},
   "source": [
    "Configuration"
   ]
  },
  {
   "cell_type": "code",
   "execution_count": 25,
   "id": "0ee9e879-d729-4cd6-9aaf-36c95a512b1f",
   "metadata": {},
   "outputs": [],
   "source": [
    "DATA_PATH = 'data.tsv'"
   ]
  },
  {
   "cell_type": "markdown",
   "id": "2f8188ec-7e1a-4d1b-8645-90e810f2ee83",
   "metadata": {},
   "source": [
    "Read tsv"
   ]
  },
  {
   "cell_type": "code",
   "execution_count": 26,
   "id": "725b0671-1231-4011-b889-9edf9f1879c8",
   "metadata": {},
   "outputs": [],
   "source": [
    "df = pd.read_csv(DATA_PATH, sep = '\\t')"
   ]
  },
  {
   "cell_type": "code",
   "execution_count": 27,
   "id": "d9f5bc0a-802e-47d7-b413-da34bfe67f4c",
   "metadata": {},
   "outputs": [
    {
     "data": {
      "text/html": [
       "<div>\n",
       "<style scoped>\n",
       "    .dataframe tbody tr th:only-of-type {\n",
       "        vertical-align: middle;\n",
       "    }\n",
       "\n",
       "    .dataframe tbody tr th {\n",
       "        vertical-align: top;\n",
       "    }\n",
       "\n",
       "    .dataframe thead th {\n",
       "        text-align: right;\n",
       "    }\n",
       "</style>\n",
       "<table border=\"1\" class=\"dataframe\">\n",
       "  <thead>\n",
       "    <tr style=\"text-align: right;\">\n",
       "      <th></th>\n",
       "      <th>tconst</th>\n",
       "      <th>averageRating</th>\n",
       "      <th>numVotes</th>\n",
       "    </tr>\n",
       "  </thead>\n",
       "  <tbody>\n",
       "    <tr>\n",
       "      <th>0</th>\n",
       "      <td>tt0000001</td>\n",
       "      <td>5.7</td>\n",
       "      <td>1924</td>\n",
       "    </tr>\n",
       "    <tr>\n",
       "      <th>1</th>\n",
       "      <td>tt0000002</td>\n",
       "      <td>5.8</td>\n",
       "      <td>260</td>\n",
       "    </tr>\n",
       "    <tr>\n",
       "      <th>2</th>\n",
       "      <td>tt0000003</td>\n",
       "      <td>6.5</td>\n",
       "      <td>1736</td>\n",
       "    </tr>\n",
       "    <tr>\n",
       "      <th>3</th>\n",
       "      <td>tt0000004</td>\n",
       "      <td>5.6</td>\n",
       "      <td>175</td>\n",
       "    </tr>\n",
       "    <tr>\n",
       "      <th>4</th>\n",
       "      <td>tt0000005</td>\n",
       "      <td>6.2</td>\n",
       "      <td>2551</td>\n",
       "    </tr>\n",
       "  </tbody>\n",
       "</table>\n",
       "</div>"
      ],
      "text/plain": [
       "      tconst  averageRating  numVotes\n",
       "0  tt0000001            5.7      1924\n",
       "1  tt0000002            5.8       260\n",
       "2  tt0000003            6.5      1736\n",
       "3  tt0000004            5.6       175\n",
       "4  tt0000005            6.2      2551"
      ]
     },
     "execution_count": 27,
     "metadata": {},
     "output_type": "execute_result"
    }
   ],
   "source": [
    "df.head()"
   ]
  },
  {
   "cell_type": "markdown",
   "id": "7290bbd6-6108-4f2d-9beb-ab2f7f6ddfca",
   "metadata": {},
   "source": [
    "Row count"
   ]
  },
  {
   "cell_type": "code",
   "execution_count": 68,
   "id": "0f85e064-72cc-4558-ac89-9a530217d4f2",
   "metadata": {},
   "outputs": [
    {
     "data": {
      "text/plain": [
       "1252779"
      ]
     },
     "execution_count": 68,
     "metadata": {},
     "output_type": "execute_result"
    }
   ],
   "source": [
    "len(df.index)"
   ]
  },
  {
   "cell_type": "markdown",
   "id": "31d28906-f226-43f1-8839-242dea651416",
   "metadata": {},
   "source": [
    "Randomly sample data"
   ]
  },
  {
   "cell_type": "code",
   "execution_count": null,
   "id": "c902c774-e8d6-4523-90b3-ada76b7e2916",
   "metadata": {},
   "outputs": [],
   "source": [
    "sample_idxs = np.random.permutation(len(df.index))"
   ]
  },
  {
   "cell_type": "markdown",
   "id": "fe9fbc03-6325-4ac5-972e-f8f05e5deb52",
   "metadata": {},
   "source": [
    "## Data Mining"
   ]
  },
  {
   "cell_type": "markdown",
   "id": "6ec73a0c-7db9-40f4-b649-c5f833ca25e1",
   "metadata": {},
   "source": [
    "Mine data from the web and save to pickle file"
   ]
  },
  {
   "cell_type": "code",
   "execution_count": 114,
   "id": "dab26bd9-0add-4282-a22d-6b61e72bb7c7",
   "metadata": {},
   "outputs": [],
   "source": [
    "SAMPLE_SIZE = 10000\n",
    "SAVE_INTERVAL = 1000\n",
    "REVIEWS_PER_MOVIE = 5\n",
    "SAVE_LOCATION = './data/'"
   ]
  },
  {
   "cell_type": "code",
   "execution_count": 116,
   "id": "045260de-da52-4496-8fc0-c791d4e6755c",
   "metadata": {},
   "outputs": [
    {
     "name": "stderr",
     "output_type": "stream",
     "text": [
      " 10%|███████▌                                                                    | 997/10000 [26:31<3:31:03,  1.41s/it]"
     ]
    },
    {
     "name": "stdout",
     "output_type": "stream",
     "text": [
      "Error while mining tt6324022 ...\n"
     ]
    },
    {
     "name": "stderr",
     "output_type": "stream",
     "text": [
      " 10%|███████▌                                                                   | 1000/10000 [26:39<5:11:18,  2.08s/it]"
     ]
    },
    {
     "name": "stdout",
     "output_type": "stream",
     "text": [
      "saving checkpoint...\n"
     ]
    },
    {
     "name": "stderr",
     "output_type": "stream",
     "text": [
      " 10%|███████▌                                                                   | 1002/10000 [26:40<3:28:51,  1.39s/it]"
     ]
    },
    {
     "name": "stdout",
     "output_type": "stream",
     "text": [
      "Error while mining tt5340984 ...\n"
     ]
    },
    {
     "name": "stderr",
     "output_type": "stream",
     "text": [
      " 10%|███████▌                                                                   | 1007/10000 [26:48<3:47:51,  1.52s/it]"
     ]
    },
    {
     "name": "stdout",
     "output_type": "stream",
     "text": [
      "Error while mining tt1725272 ...\n",
      "Error while mining tt0230376 ...\n"
     ]
    },
    {
     "name": "stderr",
     "output_type": "stream",
     "text": [
      " 20%|███████████████                                                            | 2000/10000 [53:31<4:01:23,  1.81s/it]"
     ]
    },
    {
     "name": "stdout",
     "output_type": "stream",
     "text": [
      "saving checkpoint...\n"
     ]
    },
    {
     "name": "stderr",
     "output_type": "stream",
     "text": [
      " 30%|█████████████████████▉                                                   | 3000/10000 [1:20:19<2:06:27,  1.08s/it]"
     ]
    },
    {
     "name": "stdout",
     "output_type": "stream",
     "text": [
      "saving checkpoint...\n"
     ]
    },
    {
     "name": "stderr",
     "output_type": "stream",
     "text": [
      " 40%|█████████████████████████████▏                                           | 4000/10000 [1:46:50<1:54:25,  1.14s/it]"
     ]
    },
    {
     "name": "stdout",
     "output_type": "stream",
     "text": [
      "saving checkpoint...\n"
     ]
    },
    {
     "name": "stderr",
     "output_type": "stream",
     "text": [
      " 44%|████████████████████████████████▏                                        | 4409/10000 [1:57:57<1:37:53,  1.05s/it]"
     ]
    },
    {
     "name": "stdout",
     "output_type": "stream",
     "text": [
      "Error while mining tt7237026 ...\n",
      "Error while mining tt7854338 ...\n"
     ]
    },
    {
     "name": "stderr",
     "output_type": "stream",
     "text": [
      " 44%|████████████████████████████████▏                                        | 4413/10000 [1:58:05<2:57:46,  1.91s/it]"
     ]
    },
    {
     "name": "stdout",
     "output_type": "stream",
     "text": [
      "Error while mining tt0198356 ...\n"
     ]
    },
    {
     "name": "stderr",
     "output_type": "stream",
     "text": [
      " 50%|████████████████████████████████████▌                                    | 5000/10000 [2:12:51<1:02:49,  1.33it/s]"
     ]
    },
    {
     "name": "stdout",
     "output_type": "stream",
     "text": [
      "saving checkpoint...\n"
     ]
    },
    {
     "name": "stderr",
     "output_type": "stream",
     "text": [
      " 60%|███████████████████████████████████████████▊                             | 6000/10000 [2:39:55<3:05:20,  2.78s/it]"
     ]
    },
    {
     "name": "stdout",
     "output_type": "stream",
     "text": [
      "saving checkpoint...\n"
     ]
    },
    {
     "name": "stderr",
     "output_type": "stream",
     "text": [
      " 64%|██████████████████████████████████████████████▋                          | 6404/10000 [2:50:30<1:42:57,  1.72s/it]"
     ]
    },
    {
     "name": "stdout",
     "output_type": "stream",
     "text": [
      "Error while mining tt0565115 ...\n"
     ]
    },
    {
     "name": "stderr",
     "output_type": "stream",
     "text": [
      " 70%|███████████████████████████████████████████████████                      | 7000/10000 [3:06:16<1:36:12,  1.92s/it]"
     ]
    },
    {
     "name": "stdout",
     "output_type": "stream",
     "text": [
      "saving checkpoint...\n"
     ]
    },
    {
     "name": "stderr",
     "output_type": "stream",
     "text": [
      " 80%|████████████████████████████████████████████████████████████               | 8000/10000 [3:33:09<44:11,  1.33s/it]"
     ]
    },
    {
     "name": "stdout",
     "output_type": "stream",
     "text": [
      "saving checkpoint...\n"
     ]
    },
    {
     "name": "stderr",
     "output_type": "stream",
     "text": [
      " 80%|████████████████████████████████████████████████████████████▏              | 8028/10000 [3:33:48<46:15,  1.41s/it]"
     ]
    },
    {
     "name": "stdout",
     "output_type": "stream",
     "text": [
      "Error while mining tt10693212 ...\n"
     ]
    },
    {
     "name": "stderr",
     "output_type": "stream",
     "text": [
      " 80%|████████████████████████████████████████████████████████████▏              | 8029/10000 [3:33:49<48:15,  1.47s/it]"
     ]
    },
    {
     "name": "stdout",
     "output_type": "stream",
     "text": [
      "Error while mining tt2099152 ...\n"
     ]
    },
    {
     "name": "stderr",
     "output_type": "stream",
     "text": [
      " 80%|████████████████████████████████████████████████████████████▏              | 8030/10000 [3:33:51<56:20,  1.72s/it]"
     ]
    },
    {
     "name": "stdout",
     "output_type": "stream",
     "text": [
      "Error while mining tt6851704 ...\n"
     ]
    },
    {
     "name": "stderr",
     "output_type": "stream",
     "text": [
      " 80%|██████████████████████████████████████████████████████████▋              | 8031/10000 [3:33:54<1:08:40,  2.09s/it]"
     ]
    },
    {
     "name": "stdout",
     "output_type": "stream",
     "text": [
      "Error while mining tt2457304 ...\n"
     ]
    },
    {
     "name": "stderr",
     "output_type": "stream",
     "text": [
      " 80%|██████████████████████████████████████████████████████████▋              | 8032/10000 [3:33:59<1:35:25,  2.91s/it]"
     ]
    },
    {
     "name": "stdout",
     "output_type": "stream",
     "text": [
      "Error while mining tt3215234 ...\n"
     ]
    },
    {
     "name": "stderr",
     "output_type": "stream",
     "text": [
      " 80%|████████████████████████████████████████████████████████████▎              | 8036/10000 [3:34:04<57:29,  1.76s/it]"
     ]
    },
    {
     "name": "stdout",
     "output_type": "stream",
     "text": [
      "Error while mining tt8249034 ...\n"
     ]
    },
    {
     "name": "stderr",
     "output_type": "stream",
     "text": [
      " 90%|███████████████████████████████████████████████████████████████████▌       | 9000/10000 [3:58:52<17:35,  1.06s/it]"
     ]
    },
    {
     "name": "stdout",
     "output_type": "stream",
     "text": [
      "saving checkpoint...\n"
     ]
    },
    {
     "name": "stderr",
     "output_type": "stream",
     "text": [
      " 95%|███████████████████████████████████████████████████████████████████████    | 9477/10000 [4:11:06<10:17,  1.18s/it]"
     ]
    },
    {
     "name": "stdout",
     "output_type": "stream",
     "text": [
      "Error while mining tt5021510 ...\n"
     ]
    },
    {
     "name": "stderr",
     "output_type": "stream",
     "text": [
      "100%|██████████████████████████████████████████████████████████████████████████| 10000/10000 [4:24:10<00:00,  1.59s/it]"
     ]
    },
    {
     "name": "stdout",
     "output_type": "stream",
     "text": [
      "saving checkpoint...\n",
      "done\n"
     ]
    },
    {
     "name": "stderr",
     "output_type": "stream",
     "text": [
      "\n"
     ]
    }
   ],
   "source": [
    "data = {}\n",
    "count = 0\n",
    "save_counter = 0\n",
    "with tqdm(total=SAMPLE_SIZE) as pbar:\n",
    "    for idx in sample_idxs:\n",
    "        # check if exit loop\n",
    "        if count >= SAMPLE_SIZE:\n",
    "            break\n",
    "        # get metadata\n",
    "        metadata = df.iloc[idx]\n",
    "        tid, rating = metadata[0], metadata[1]\n",
    "        # scrape reviews\n",
    "        raw = None\n",
    "        try:\n",
    "            raw = requests.get(f'https://www.imdb.com/title/{tid}/reviews?ref_=tt_urv')\n",
    "        except:\n",
    "            print(f'Error while mining {tid} ...')\n",
    "            continue\n",
    "        soup = BeautifulSoup(raw.text, 'html.parser')\n",
    "        r_text = []\n",
    "        for i, r_div in enumerate(soup.findAll('div', {'class': ['content']})):\n",
    "            review = r_div.find(class_ = 'text')\n",
    "            if i >= REVIEWS_PER_MOVIE:\n",
    "                break\n",
    "            r_text.append(review.text)\n",
    "        if len(r_text) == 0:\n",
    "            # no review found, continue searching\n",
    "            continue\n",
    "        # store data\n",
    "        data[tid] = (rating, ' '.join(r_text))\n",
    "        count += 1\n",
    "        pbar.update(1)\n",
    "        # save data if interval\n",
    "        if count % SAVE_INTERVAL == 0:\n",
    "            # dump data\n",
    "            print('saving checkpoint...')\n",
    "            with open(f'{SAVE_LOCATION}ratings_{save_counter}.pkl', 'wb') as f:\n",
    "                pickle.dump(data, f)\n",
    "            save_counter += 1\n",
    "            # clear data\n",
    "            data.clear()\n",
    "# save data\n",
    "print('done')"
   ]
  },
  {
   "cell_type": "markdown",
   "id": "85febab8-1933-429e-989a-8e998e79f998",
   "metadata": {},
   "source": [
    "Train/Dev/Test Split"
   ]
  },
  {
   "cell_type": "code",
   "execution_count": 144,
   "id": "141b5c2f-3cfd-4764-bca8-a8c66bb05343",
   "metadata": {},
   "outputs": [],
   "source": [
    "ratio = [8,1,1]\n",
    "\n",
    "ratio = np.cumsum(np.array(ratio))\n",
    "names = ['train', 'dev', 'test']\n",
    "ratings = {}\n",
    "mode = 0\n",
    "for i in range(SAMPLE_SIZE // SAVE_INTERVAL):\n",
    "    with open(f'{SAVE_LOCATION}ratings_{i}.pkl', 'rb') as handle:\n",
    "        temp = pickle.load(handle)\n",
    "        # merge\n",
    "        ratings = ratings | temp\n",
    "    # dump file\n",
    "    if i == ratio[mode] - 1:\n",
    "        with open(f'{SAVE_LOCATION}processed/data_{names[mode]}.pkl', 'wb') as f:\n",
    "            pickle.dump(ratings, f)\n",
    "        mode += 1\n",
    "        ratings.clear()"
   ]
  },
  {
   "cell_type": "markdown",
   "id": "7e113adf-4e40-44e5-b740-0df1a68b88a1",
   "metadata": {},
   "source": [
    "## Data visualization"
   ]
  },
  {
   "cell_type": "markdown",
   "id": "285c04af-958e-431f-ad3e-5d3cddca2ceb",
   "metadata": {},
   "source": [
    "Load pickled data"
   ]
  },
  {
   "cell_type": "code",
   "execution_count": 145,
   "id": "16e56ae2-cc50-419f-8d3c-705ee1fbbf25",
   "metadata": {},
   "outputs": [],
   "source": [
    "train_data = None\n",
    "dev_data = None\n",
    "test_data = None\n",
    "with open(f'{SAVE_LOCATION}processed/data_train.pkl', 'rb') as handle:\n",
    "    train_data = pickle.load(handle)\n",
    "with open(f'{SAVE_LOCATION}processed/data_dev.pkl', 'rb') as handle:\n",
    "    dev_data = pickle.load(handle)\n",
    "with open(f'{SAVE_LOCATION}processed/data_test.pkl', 'rb') as handle:\n",
    "    test_data = pickle.load(handle)"
   ]
  },
  {
   "cell_type": "markdown",
   "id": "6bd4d799-42d2-4903-a1f5-4b9fcbe5b756",
   "metadata": {},
   "source": [
    "Size of dataset"
   ]
  },
  {
   "cell_type": "code",
   "execution_count": 147,
   "id": "f6e1c629-fcf5-4840-a842-960e48f7a528",
   "metadata": {},
   "outputs": [
    {
     "name": "stdout",
     "output_type": "stream",
     "text": [
      "Dataset Size: train = 8000, dev = 1000, test = 1000\n"
     ]
    }
   ],
   "source": [
    "print(f'Dataset Size: train = {len(train_data)}, dev = {len(dev_data)}, test = {len(test_data)}')"
   ]
  },
  {
   "cell_type": "markdown",
   "id": "5c3b6b2a-4e1d-40e8-8a36-fd3372d100bd",
   "metadata": {},
   "source": [
    "Ratings distribution"
   ]
  },
  {
   "cell_type": "code",
   "execution_count": 155,
   "id": "e82cff5f-5b2f-4ef8-a930-1c5d3b8c6603",
   "metadata": {},
   "outputs": [
    {
     "data": {
      "image/png": "[encoded data removed]",
      "text/plain": [
       "<Figure size 432x288 with 1 Axes>"
      ]
     },
     "metadata": {
      "needs_background": "light"
     },
     "output_type": "display_data"
    }
   ],
   "source": [
    "train_scores = []\n",
    "for k, v in train_data.items():\n",
    "    train_scores.append(v[0])\n",
    "dev_scores = []\n",
    "for k, v in dev_data.items():\n",
    "    dev_scores.append(v[0])\n",
    "test_scores = []\n",
    "for k, v in test_data.items():\n",
    "    test_scores.append(v[0])\n",
    "dist = [np.array(train_scores), np.array(dev_scores), np.array(test_scores)]\n",
    "plt.hist(dist, density = True, label=['Train', 'Dev', 'Test'])\n",
    "plt.title('Distribution of Ratings for each Dataset')\n",
    "plt.xlabel('Ratings')\n",
    "plt.ylabel('Density')\n",
    "plt.legend()\n",
    "plt.show()"
   ]
  }
 ],
 "metadata": {
  "kernelspec": {
   "display_name": "Python [conda env:ml] *",
   "language": "python",
   "name": "conda-env-ml-py"
  },
  "language_info": {
   "codemirror_mode": {
    "name": "ipython",
    "version": 3
   },
   "file_extension": ".py",
   "mimetype": "text/x-python",
   "name": "python",
   "nbconvert_exporter": "python",
   "pygments_lexer": "ipython3",
   "version": "3.9.7"
  }
 },
 "nbformat": 4,
 "nbformat_minor": 5
}
